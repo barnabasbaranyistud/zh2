{
    "metadata": {
        "kernelspec": {
            "name": "SQL",
            "display_name": "SQL",
            "language": "sql"
        },
        "language_info": {
            "name": "sql",
            "version": ""
        }
    },
    "nbformat_minor": 2,
    "nbformat": 4,
    "cells": [
        {
            "cell_type": "code",
            "source": [
                "SELECT CASE GROUPING(SZOBA_FK) \r\n",
                "WHEN 0 THEN CAST((SZOBA_FK)\r\n",
                "AS nvarchar(4)) \r\n",
                "WHEN 1 THEN 'Összesen' END,\r\n",
                "COUNT(*)\r\n",
                "FROM Foglalas\r\n",
                "WHERE FELNOTT_SZAM > GYERMEK_SZAM\r\n",
                "GROUP BY ROLLUP(SZOBA_FK)"
            ],
            "metadata": {
                "azdata_cell_guid": "d9bcc6ae-02cc-4d9f-a5ac-63741abb286b",
                "language": "sql"
            },
            "outputs": [
                {
                    "output_type": "display_data",
                    "data": {
                        "text/html": "(190 rows affected)"
                    },
                    "metadata": {}
                },
                {
                    "output_type": "display_data",
                    "data": {
                        "text/html": "Total execution time: 00:00:00.053"
                    },
                    "metadata": {}
                },
                {
                    "output_type": "execute_result",
                    "metadata": {},
                    "execution_count": 7,
                    "data": {
                        "application/vnd.dataresource+json": {
                            "schema": {
                                "fields": [
                                    {
                                        "name": "(No column name)"
                                    },
                                    {
                                        "name": "(No column name)"
                                    }
                                ]
                            },
                            "data": [
                                {
                                    "(No column name)": "7"
                                },
                                {
                                    "(No column name)": "2"
                                },
                                {
                                    "(No column name)": "3"
                                },
                                {
                                    "(No column name)": "5"
                                },
                                {
                                    "(No column name)": "2"
                                },
                                {
                                    "(No column name)": "5"
                                },
                                {
                                    "(No column name)": "6"
                                },
                                {
                                    "(No column name)": "5"
                                },
                                {
                                    "(No column name)": "4"
                                },
                                {
                                    "(No column name)": "4"
                                },
                                {
                                    "(No column name)": "4"
                                },
                                {
                                    "(No column name)": "7"
                                },
                                {
                                    "(No column name)": "4"
                                },
                                {
                                    "(No column name)": "3"
                                },
                                {
                                    "(No column name)": "4"
                                },
                                {
                                    "(No column name)": "1"
                                },
                                {
                                    "(No column name)": "2"
                                },
                                {
                                    "(No column name)": "3"
                                },
                                {
                                    "(No column name)": "4"
                                },
                                {
                                    "(No column name)": "5"
                                },
                                {
                                    "(No column name)": "1"
                                },
                                {
                                    "(No column name)": "2"
                                },
                                {
                                    "(No column name)": "3"
                                },
                                {
                                    "(No column name)": "3"
                                },
                                {
                                    "(No column name)": "1"
                                },
                                {
                                    "(No column name)": "5"
                                },
                                {
                                    "(No column name)": "5"
                                },
                                {
                                    "(No column name)": "3"
                                },
                                {
                                    "(No column name)": "2"
                                },
                                {
                                    "(No column name)": "1"
                                },
                                {
                                    "(No column name)": "1"
                                },
                                {
                                    "(No column name)": "3"
                                },
                                {
                                    "(No column name)": "3"
                                },
                                {
                                    "(No column name)": "6"
                                },
                                {
                                    "(No column name)": "4"
                                },
                                {
                                    "(No column name)": "2"
                                },
                                {
                                    "(No column name)": "5"
                                },
                                {
                                    "(No column name)": "4"
                                },
                                {
                                    "(No column name)": "3"
                                },
                                {
                                    "(No column name)": "1"
                                },
                                {
                                    "(No column name)": "5"
                                },
                                {
                                    "(No column name)": "4"
                                },
                                {
                                    "(No column name)": "6"
                                },
                                {
                                    "(No column name)": "4"
                                },
                                {
                                    "(No column name)": "3"
                                },
                                {
                                    "(No column name)": "2"
                                },
                                {
                                    "(No column name)": "6"
                                },
                                {
                                    "(No column name)": "5"
                                },
                                {
                                    "(No column name)": "3"
                                },
                                {
                                    "(No column name)": "3"
                                },
                                {
                                    "(No column name)": "5"
                                },
                                {
                                    "(No column name)": "4"
                                },
                                {
                                    "(No column name)": "3"
                                },
                                {
                                    "(No column name)": "1"
                                },
                                {
                                    "(No column name)": "3"
                                },
                                {
                                    "(No column name)": "8"
                                },
                                {
                                    "(No column name)": "4"
                                },
                                {
                                    "(No column name)": "1"
                                },
                                {
                                    "(No column name)": "4"
                                },
                                {
                                    "(No column name)": "3"
                                },
                                {
                                    "(No column name)": "3"
                                },
                                {
                                    "(No column name)": "5"
                                },
                                {
                                    "(No column name)": "3"
                                },
                                {
                                    "(No column name)": "2"
                                },
                                {
                                    "(No column name)": "2"
                                },
                                {
                                    "(No column name)": "8"
                                },
                                {
                                    "(No column name)": "2"
                                },
                                {
                                    "(No column name)": "2"
                                },
                                {
                                    "(No column name)": "4"
                                },
                                {
                                    "(No column name)": "8"
                                },
                                {
                                    "(No column name)": "2"
                                },
                                {
                                    "(No column name)": "2"
                                },
                                {
                                    "(No column name)": "3"
                                },
                                {
                                    "(No column name)": "3"
                                },
                                {
                                    "(No column name)": "4"
                                },
                                {
                                    "(No column name)": "5"
                                },
                                {
                                    "(No column name)": "3"
                                },
                                {
                                    "(No column name)": "5"
                                },
                                {
                                    "(No column name)": "5"
                                },
                                {
                                    "(No column name)": "3"
                                },
                                {
                                    "(No column name)": "2"
                                },
                                {
                                    "(No column name)": "4"
                                },
                                {
                                    "(No column name)": "5"
                                },
                                {
                                    "(No column name)": "5"
                                },
                                {
                                    "(No column name)": "8"
                                },
                                {
                                    "(No column name)": "3"
                                },
                                {
                                    "(No column name)": "2"
                                },
                                {
                                    "(No column name)": "5"
                                },
                                {
                                    "(No column name)": "3"
                                },
                                {
                                    "(No column name)": "6"
                                },
                                {
                                    "(No column name)": "3"
                                },
                                {
                                    "(No column name)": "6"
                                },
                                {
                                    "(No column name)": "5"
                                },
                                {
                                    "(No column name)": "4"
                                },
                                {
                                    "(No column name)": "4"
                                },
                                {
                                    "(No column name)": "2"
                                },
                                {
                                    "(No column name)": "1"
                                },
                                {
                                    "(No column name)": "1"
                                },
                                {
                                    "(No column name)": "1"
                                },
                                {
                                    "(No column name)": "3"
                                },
                                {
                                    "(No column name)": "4"
                                },
                                {
                                    "(No column name)": "4"
                                },
                                {
                                    "(No column name)": "1"
                                },
                                {
                                    "(No column name)": "2"
                                },
                                {
                                    "(No column name)": "5"
                                },
                                {
                                    "(No column name)": "1"
                                },
                                {
                                    "(No column name)": "4"
                                },
                                {
                                    "(No column name)": "2"
                                },
                                {
                                    "(No column name)": "1"
                                },
                                {
                                    "(No column name)": "5"
                                },
                                {
                                    "(No column name)": "4"
                                },
                                {
                                    "(No column name)": "2"
                                },
                                {
                                    "(No column name)": "4"
                                },
                                {
                                    "(No column name)": "2"
                                },
                                {
                                    "(No column name)": "5"
                                },
                                {
                                    "(No column name)": "3"
                                },
                                {
                                    "(No column name)": "5"
                                },
                                {
                                    "(No column name)": "4"
                                },
                                {
                                    "(No column name)": "4"
                                },
                                {
                                    "(No column name)": "5"
                                },
                                {
                                    "(No column name)": "3"
                                },
                                {
                                    "(No column name)": "5"
                                },
                                {
                                    "(No column name)": "4"
                                },
                                {
                                    "(No column name)": "4"
                                },
                                {
                                    "(No column name)": "4"
                                },
                                {
                                    "(No column name)": "4"
                                },
                                {
                                    "(No column name)": "3"
                                },
                                {
                                    "(No column name)": "2"
                                },
                                {
                                    "(No column name)": "2"
                                },
                                {
                                    "(No column name)": "5"
                                },
                                {
                                    "(No column name)": "6"
                                },
                                {
                                    "(No column name)": "5"
                                },
                                {
                                    "(No column name)": "4"
                                },
                                {
                                    "(No column name)": "1"
                                },
                                {
                                    "(No column name)": "5"
                                },
                                {
                                    "(No column name)": "2"
                                },
                                {
                                    "(No column name)": "2"
                                },
                                {
                                    "(No column name)": "3"
                                },
                                {
                                    "(No column name)": "1"
                                },
                                {
                                    "(No column name)": "5"
                                },
                                {
                                    "(No column name)": "5"
                                },
                                {
                                    "(No column name)": "6"
                                },
                                {
                                    "(No column name)": "2"
                                },
                                {
                                    "(No column name)": "3"
                                },
                                {
                                    "(No column name)": "4"
                                },
                                {
                                    "(No column name)": "3"
                                },
                                {
                                    "(No column name)": "3"
                                },
                                {
                                    "(No column name)": "2"
                                },
                                {
                                    "(No column name)": "2"
                                },
                                {
                                    "(No column name)": "3"
                                },
                                {
                                    "(No column name)": "2"
                                },
                                {
                                    "(No column name)": "3"
                                },
                                {
                                    "(No column name)": "2"
                                },
                                {
                                    "(No column name)": "5"
                                },
                                {
                                    "(No column name)": "4"
                                },
                                {
                                    "(No column name)": "5"
                                },
                                {
                                    "(No column name)": "3"
                                },
                                {
                                    "(No column name)": "2"
                                },
                                {
                                    "(No column name)": "1"
                                },
                                {
                                    "(No column name)": "3"
                                },
                                {
                                    "(No column name)": "3"
                                },
                                {
                                    "(No column name)": "5"
                                },
                                {
                                    "(No column name)": "6"
                                },
                                {
                                    "(No column name)": "3"
                                },
                                {
                                    "(No column name)": "4"
                                },
                                {
                                    "(No column name)": "3"
                                },
                                {
                                    "(No column name)": "2"
                                },
                                {
                                    "(No column name)": "1"
                                },
                                {
                                    "(No column name)": "1"
                                },
                                {
                                    "(No column name)": "2"
                                },
                                {
                                    "(No column name)": "1"
                                },
                                {
                                    "(No column name)": "5"
                                },
                                {
                                    "(No column name)": "11"
                                },
                                {
                                    "(No column name)": "3"
                                },
                                {
                                    "(No column name)": "4"
                                },
                                {
                                    "(No column name)": "10"
                                },
                                {
                                    "(No column name)": "1"
                                },
                                {
                                    "(No column name)": "6"
                                },
                                {
                                    "(No column name)": "2"
                                },
                                {
                                    "(No column name)": "1"
                                },
                                {
                                    "(No column name)": "5"
                                },
                                {
                                    "(No column name)": "3"
                                },
                                {
                                    "(No column name)": "1"
                                },
                                {
                                    "(No column name)": "2"
                                },
                                {
                                    "(No column name)": "1"
                                },
                                {
                                    "(No column name)": "5"
                                },
                                {
                                    "(No column name)": "2"
                                },
                                {
                                    "(No column name)": "6"
                                },
                                {
                                    "(No column name)": "7"
                                },
                                {
                                    "(No column name)": "668"
                                }
                            ]
                        },
                        "text/html": [
                            "<table>",
                            "<tr><th>(No column name)</th><th>(No column name)</th></tr>",
                            "<tr><td>1</td><td>7</td></tr>",
                            "<tr><td>2</td><td>2</td></tr>",
                            "<tr><td>3</td><td>3</td></tr>",
                            "<tr><td>4</td><td>5</td></tr>",
                            "<tr><td>5</td><td>2</td></tr>",
                            "<tr><td>6</td><td>5</td></tr>",
                            "<tr><td>7</td><td>6</td></tr>",
                            "<tr><td>8</td><td>5</td></tr>",
                            "<tr><td>9</td><td>4</td></tr>",
                            "<tr><td>10</td><td>4</td></tr>",
                            "<tr><td>11</td><td>4</td></tr>",
                            "<tr><td>12</td><td>7</td></tr>",
                            "<tr><td>13</td><td>4</td></tr>",
                            "<tr><td>14</td><td>3</td></tr>",
                            "<tr><td>15</td><td>4</td></tr>",
                            "<tr><td>16</td><td>1</td></tr>",
                            "<tr><td>17</td><td>2</td></tr>",
                            "<tr><td>18</td><td>3</td></tr>",
                            "<tr><td>19</td><td>4</td></tr>",
                            "<tr><td>20</td><td>5</td></tr>",
                            "<tr><td>21</td><td>1</td></tr>",
                            "<tr><td>22</td><td>2</td></tr>",
                            "<tr><td>23</td><td>3</td></tr>",
                            "<tr><td>24</td><td>3</td></tr>",
                            "<tr><td>25</td><td>1</td></tr>",
                            "<tr><td>27</td><td>5</td></tr>",
                            "<tr><td>28</td><td>5</td></tr>",
                            "<tr><td>29</td><td>3</td></tr>",
                            "<tr><td>30</td><td>2</td></tr>",
                            "<tr><td>31</td><td>1</td></tr>",
                            "<tr><td>32</td><td>1</td></tr>",
                            "<tr><td>33</td><td>3</td></tr>",
                            "<tr><td>34</td><td>3</td></tr>",
                            "<tr><td>35</td><td>6</td></tr>",
                            "<tr><td>36</td><td>4</td></tr>",
                            "<tr><td>37</td><td>2</td></tr>",
                            "<tr><td>38</td><td>5</td></tr>",
                            "<tr><td>39</td><td>4</td></tr>",
                            "<tr><td>40</td><td>3</td></tr>",
                            "<tr><td>41</td><td>1</td></tr>",
                            "<tr><td>42</td><td>5</td></tr>",
                            "<tr><td>43</td><td>4</td></tr>",
                            "<tr><td>44</td><td>6</td></tr>",
                            "<tr><td>45</td><td>4</td></tr>",
                            "<tr><td>46</td><td>3</td></tr>",
                            "<tr><td>47</td><td>2</td></tr>",
                            "<tr><td>48</td><td>6</td></tr>",
                            "<tr><td>49</td><td>5</td></tr>",
                            "<tr><td>50</td><td>3</td></tr>",
                            "<tr><td>51</td><td>3</td></tr>",
                            "<tr><td>52</td><td>5</td></tr>",
                            "<tr><td>54</td><td>4</td></tr>",
                            "<tr><td>55</td><td>3</td></tr>",
                            "<tr><td>56</td><td>1</td></tr>",
                            "<tr><td>57</td><td>3</td></tr>",
                            "<tr><td>58</td><td>8</td></tr>",
                            "<tr><td>59</td><td>4</td></tr>",
                            "<tr><td>60</td><td>1</td></tr>",
                            "<tr><td>61</td><td>4</td></tr>",
                            "<tr><td>62</td><td>3</td></tr>",
                            "<tr><td>63</td><td>3</td></tr>",
                            "<tr><td>64</td><td>5</td></tr>",
                            "<tr><td>66</td><td>3</td></tr>",
                            "<tr><td>67</td><td>2</td></tr>",
                            "<tr><td>69</td><td>2</td></tr>",
                            "<tr><td>70</td><td>8</td></tr>",
                            "<tr><td>71</td><td>2</td></tr>",
                            "<tr><td>72</td><td>2</td></tr>",
                            "<tr><td>73</td><td>4</td></tr>",
                            "<tr><td>74</td><td>8</td></tr>",
                            "<tr><td>75</td><td>2</td></tr>",
                            "<tr><td>76</td><td>2</td></tr>",
                            "<tr><td>77</td><td>3</td></tr>",
                            "<tr><td>78</td><td>3</td></tr>",
                            "<tr><td>79</td><td>4</td></tr>",
                            "<tr><td>80</td><td>5</td></tr>",
                            "<tr><td>81</td><td>3</td></tr>",
                            "<tr><td>82</td><td>5</td></tr>",
                            "<tr><td>83</td><td>5</td></tr>",
                            "<tr><td>84</td><td>3</td></tr>",
                            "<tr><td>85</td><td>2</td></tr>",
                            "<tr><td>86</td><td>4</td></tr>",
                            "<tr><td>87</td><td>5</td></tr>",
                            "<tr><td>88</td><td>5</td></tr>",
                            "<tr><td>89</td><td>8</td></tr>",
                            "<tr><td>90</td><td>3</td></tr>",
                            "<tr><td>91</td><td>2</td></tr>",
                            "<tr><td>92</td><td>5</td></tr>",
                            "<tr><td>93</td><td>3</td></tr>",
                            "<tr><td>94</td><td>6</td></tr>",
                            "<tr><td>95</td><td>3</td></tr>",
                            "<tr><td>96</td><td>6</td></tr>",
                            "<tr><td>97</td><td>5</td></tr>",
                            "<tr><td>98</td><td>4</td></tr>",
                            "<tr><td>99</td><td>4</td></tr>",
                            "<tr><td>100</td><td>2</td></tr>",
                            "<tr><td>101</td><td>1</td></tr>",
                            "<tr><td>102</td><td>1</td></tr>",
                            "<tr><td>103</td><td>1</td></tr>",
                            "<tr><td>104</td><td>3</td></tr>",
                            "<tr><td>106</td><td>4</td></tr>",
                            "<tr><td>107</td><td>4</td></tr>",
                            "<tr><td>108</td><td>1</td></tr>",
                            "<tr><td>109</td><td>2</td></tr>",
                            "<tr><td>110</td><td>5</td></tr>",
                            "<tr><td>111</td><td>1</td></tr>",
                            "<tr><td>112</td><td>4</td></tr>",
                            "<tr><td>113</td><td>2</td></tr>",
                            "<tr><td>114</td><td>1</td></tr>",
                            "<tr><td>115</td><td>5</td></tr>",
                            "<tr><td>117</td><td>4</td></tr>",
                            "<tr><td>118</td><td>2</td></tr>",
                            "<tr><td>119</td><td>4</td></tr>",
                            "<tr><td>120</td><td>2</td></tr>",
                            "<tr><td>121</td><td>5</td></tr>",
                            "<tr><td>122</td><td>3</td></tr>",
                            "<tr><td>123</td><td>5</td></tr>",
                            "<tr><td>124</td><td>4</td></tr>",
                            "<tr><td>126</td><td>4</td></tr>",
                            "<tr><td>127</td><td>5</td></tr>",
                            "<tr><td>129</td><td>3</td></tr>",
                            "<tr><td>130</td><td>5</td></tr>",
                            "<tr><td>131</td><td>4</td></tr>",
                            "<tr><td>132</td><td>4</td></tr>",
                            "<tr><td>133</td><td>4</td></tr>",
                            "<tr><td>134</td><td>4</td></tr>",
                            "<tr><td>135</td><td>3</td></tr>",
                            "<tr><td>136</td><td>2</td></tr>",
                            "<tr><td>137</td><td>2</td></tr>",
                            "<tr><td>138</td><td>5</td></tr>",
                            "<tr><td>139</td><td>6</td></tr>",
                            "<tr><td>140</td><td>5</td></tr>",
                            "<tr><td>141</td><td>4</td></tr>",
                            "<tr><td>142</td><td>1</td></tr>",
                            "<tr><td>143</td><td>5</td></tr>",
                            "<tr><td>144</td><td>2</td></tr>",
                            "<tr><td>145</td><td>2</td></tr>",
                            "<tr><td>146</td><td>3</td></tr>",
                            "<tr><td>147</td><td>1</td></tr>",
                            "<tr><td>148</td><td>5</td></tr>",
                            "<tr><td>149</td><td>5</td></tr>",
                            "<tr><td>150</td><td>6</td></tr>",
                            "<tr><td>151</td><td>2</td></tr>",
                            "<tr><td>152</td><td>3</td></tr>",
                            "<tr><td>153</td><td>4</td></tr>",
                            "<tr><td>154</td><td>3</td></tr>",
                            "<tr><td>155</td><td>3</td></tr>",
                            "<tr><td>156</td><td>2</td></tr>",
                            "<tr><td>157</td><td>2</td></tr>",
                            "<tr><td>158</td><td>3</td></tr>",
                            "<tr><td>160</td><td>2</td></tr>",
                            "<tr><td>161</td><td>3</td></tr>",
                            "<tr><td>162</td><td>2</td></tr>",
                            "<tr><td>163</td><td>5</td></tr>",
                            "<tr><td>164</td><td>4</td></tr>",
                            "<tr><td>165</td><td>5</td></tr>",
                            "<tr><td>166</td><td>3</td></tr>",
                            "<tr><td>167</td><td>2</td></tr>",
                            "<tr><td>168</td><td>1</td></tr>",
                            "<tr><td>169</td><td>3</td></tr>",
                            "<tr><td>170</td><td>3</td></tr>",
                            "<tr><td>171</td><td>5</td></tr>",
                            "<tr><td>172</td><td>6</td></tr>",
                            "<tr><td>173</td><td>3</td></tr>",
                            "<tr><td>174</td><td>4</td></tr>",
                            "<tr><td>175</td><td>3</td></tr>",
                            "<tr><td>176</td><td>2</td></tr>",
                            "<tr><td>177</td><td>1</td></tr>",
                            "<tr><td>178</td><td>1</td></tr>",
                            "<tr><td>179</td><td>2</td></tr>",
                            "<tr><td>180</td><td>1</td></tr>",
                            "<tr><td>181</td><td>5</td></tr>",
                            "<tr><td>182</td><td>11</td></tr>",
                            "<tr><td>183</td><td>3</td></tr>",
                            "<tr><td>184</td><td>4</td></tr>",
                            "<tr><td>185</td><td>10</td></tr>",
                            "<tr><td>186</td><td>1</td></tr>",
                            "<tr><td>187</td><td>6</td></tr>",
                            "<tr><td>188</td><td>2</td></tr>",
                            "<tr><td>189</td><td>1</td></tr>",
                            "<tr><td>190</td><td>5</td></tr>",
                            "<tr><td>191</td><td>3</td></tr>",
                            "<tr><td>192</td><td>1</td></tr>",
                            "<tr><td>193</td><td>2</td></tr>",
                            "<tr><td>194</td><td>1</td></tr>",
                            "<tr><td>195</td><td>5</td></tr>",
                            "<tr><td>196</td><td>2</td></tr>",
                            "<tr><td>197</td><td>6</td></tr>",
                            "<tr><td>198</td><td>7</td></tr>",
                            "<tr><td>Összesen</td><td>668</td></tr>",
                            "</table>"
                        ]
                    }
                }
            ],
            "execution_count": 7
        },
        {
            "cell_type": "code",
            "source": [
                ""
            ],
            "metadata": {
                "azdata_cell_guid": "101ff460-89f7-4415-adf8-0b716586947c",
                "language": "sql"
            },
            "outputs": [],
            "execution_count": null
        },
        {
            "cell_type": "code",
            "source": [
                ""
            ],
            "metadata": {
                "azdata_cell_guid": "03f437c2-90d7-4a07-a9d7-1b68f8d2eaef",
                "language": "sql"
            },
            "outputs": [],
            "execution_count": null
        }
    ]
}