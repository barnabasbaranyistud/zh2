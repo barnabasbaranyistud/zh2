{
    "metadata": {
        "kernelspec": {
            "name": "SQL",
            "display_name": "SQL",
            "language": "sql"
        },
        "language_info": {
            "name": "sql",
            "version": ""
        }
    },
    "nbformat_minor": 2,
    "nbformat": 4,
    "cells": [
        {
            "cell_type": "code",
            "source": [
                "SELECT CASE GROUPING(SZOBA_FK) \r\n",
                "WHEN 0 THEN CAST((SZOBA_FK)\r\n",
                "AS nvarchar(4)) \r\n",
                "WHEN 1 THEN 'Összesen' END AS 'Szoba azonosító',\r\n",
                "COUNT(*) as 'Foglalások száma'\r\n",
                "FROM Foglalas\r\n",
                "WHERE FELNOTT_SZAM > GYERMEK_SZAM\r\n",
                "GROUP BY ROLLUP(SZOBA_FK)"
            ],
            "metadata": {
                "azdata_cell_guid": "d9bcc6ae-02cc-4d9f-a5ac-63741abb286b",
                "language": "sql",
                "tags": []
            },
            "outputs": [
                {
                    "output_type": "display_data",
                    "data": {
                        "text/html": "(190 rows affected)"
                    },
                    "metadata": {}
                },
                {
                    "output_type": "display_data",
                    "data": {
                        "text/html": "Total execution time: 00:00:00.014"
                    },
                    "metadata": {}
                },
                {
                    "output_type": "execute_result",
                    "metadata": {},
                    "execution_count": 22,
                    "data": {
                        "application/vnd.dataresource+json": {
                            "schema": {
                                "fields": [
                                    {
                                        "name": "Szoba azonosító"
                                    },
                                    {
                                        "name": "Foglalások száma"
                                    }
                                ]
                            },
                            "data": [
                                {
                                    "Szoba azonosító": "1",
                                    "Foglalások száma": "7"
                                },
                                {
                                    "Szoba azonosító": "2",
                                    "Foglalások száma": "2"
                                },
                                {
                                    "Szoba azonosító": "3",
                                    "Foglalások száma": "3"
                                },
                                {
                                    "Szoba azonosító": "4",
                                    "Foglalások száma": "5"
                                },
                                {
                                    "Szoba azonosító": "5",
                                    "Foglalások száma": "2"
                                },
                                {
                                    "Szoba azonosító": "6",
                                    "Foglalások száma": "5"
                                },
                                {
                                    "Szoba azonosító": "7",
                                    "Foglalások száma": "6"
                                },
                                {
                                    "Szoba azonosító": "8",
                                    "Foglalások száma": "5"
                                },
                                {
                                    "Szoba azonosító": "9",
                                    "Foglalások száma": "4"
                                },
                                {
                                    "Szoba azonosító": "10",
                                    "Foglalások száma": "4"
                                },
                                {
                                    "Szoba azonosító": "11",
                                    "Foglalások száma": "4"
                                },
                                {
                                    "Szoba azonosító": "12",
                                    "Foglalások száma": "7"
                                },
                                {
                                    "Szoba azonosító": "13",
                                    "Foglalások száma": "4"
                                },
                                {
                                    "Szoba azonosító": "14",
                                    "Foglalások száma": "3"
                                },
                                {
                                    "Szoba azonosító": "15",
                                    "Foglalások száma": "4"
                                },
                                {
                                    "Szoba azonosító": "16",
                                    "Foglalások száma": "1"
                                },
                                {
                                    "Szoba azonosító": "17",
                                    "Foglalások száma": "2"
                                },
                                {
                                    "Szoba azonosító": "18",
                                    "Foglalások száma": "3"
                                },
                                {
                                    "Szoba azonosító": "19",
                                    "Foglalások száma": "4"
                                },
                                {
                                    "Szoba azonosító": "20",
                                    "Foglalások száma": "5"
                                },
                                {
                                    "Szoba azonosító": "21",
                                    "Foglalások száma": "1"
                                },
                                {
                                    "Szoba azonosító": "22",
                                    "Foglalások száma": "2"
                                },
                                {
                                    "Szoba azonosító": "23",
                                    "Foglalások száma": "3"
                                },
                                {
                                    "Szoba azonosító": "24",
                                    "Foglalások száma": "3"
                                },
                                {
                                    "Szoba azonosító": "25",
                                    "Foglalások száma": "1"
                                },
                                {
                                    "Szoba azonosító": "27",
                                    "Foglalások száma": "5"
                                },
                                {
                                    "Szoba azonosító": "28",
                                    "Foglalások száma": "5"
                                },
                                {
                                    "Szoba azonosító": "29",
                                    "Foglalások száma": "3"
                                },
                                {
                                    "Szoba azonosító": "30",
                                    "Foglalások száma": "2"
                                },
                                {
                                    "Szoba azonosító": "31",
                                    "Foglalások száma": "1"
                                },
                                {
                                    "Szoba azonosító": "32",
                                    "Foglalások száma": "1"
                                },
                                {
                                    "Szoba azonosító": "33",
                                    "Foglalások száma": "3"
                                },
                                {
                                    "Szoba azonosító": "34",
                                    "Foglalások száma": "3"
                                },
                                {
                                    "Szoba azonosító": "35",
                                    "Foglalások száma": "6"
                                },
                                {
                                    "Szoba azonosító": "36",
                                    "Foglalások száma": "4"
                                },
                                {
                                    "Szoba azonosító": "37",
                                    "Foglalások száma": "2"
                                },
                                {
                                    "Szoba azonosító": "38",
                                    "Foglalások száma": "5"
                                },
                                {
                                    "Szoba azonosító": "39",
                                    "Foglalások száma": "4"
                                },
                                {
                                    "Szoba azonosító": "40",
                                    "Foglalások száma": "3"
                                },
                                {
                                    "Szoba azonosító": "41",
                                    "Foglalások száma": "1"
                                },
                                {
                                    "Szoba azonosító": "42",
                                    "Foglalások száma": "5"
                                },
                                {
                                    "Szoba azonosító": "43",
                                    "Foglalások száma": "4"
                                },
                                {
                                    "Szoba azonosító": "44",
                                    "Foglalások száma": "6"
                                },
                                {
                                    "Szoba azonosító": "45",
                                    "Foglalások száma": "4"
                                },
                                {
                                    "Szoba azonosító": "46",
                                    "Foglalások száma": "3"
                                },
                                {
                                    "Szoba azonosító": "47",
                                    "Foglalások száma": "2"
                                },
                                {
                                    "Szoba azonosító": "48",
                                    "Foglalások száma": "6"
                                },
                                {
                                    "Szoba azonosító": "49",
                                    "Foglalások száma": "5"
                                },
                                {
                                    "Szoba azonosító": "50",
                                    "Foglalások száma": "3"
                                },
                                {
                                    "Szoba azonosító": "51",
                                    "Foglalások száma": "3"
                                },
                                {
                                    "Szoba azonosító": "52",
                                    "Foglalások száma": "5"
                                },
                                {
                                    "Szoba azonosító": "54",
                                    "Foglalások száma": "4"
                                },
                                {
                                    "Szoba azonosító": "55",
                                    "Foglalások száma": "3"
                                },
                                {
                                    "Szoba azonosító": "56",
                                    "Foglalások száma": "1"
                                },
                                {
                                    "Szoba azonosító": "57",
                                    "Foglalások száma": "3"
                                },
                                {
                                    "Szoba azonosító": "58",
                                    "Foglalások száma": "8"
                                },
                                {
                                    "Szoba azonosító": "59",
                                    "Foglalások száma": "4"
                                },
                                {
                                    "Szoba azonosító": "60",
                                    "Foglalások száma": "1"
                                },
                                {
                                    "Szoba azonosító": "61",
                                    "Foglalások száma": "4"
                                },
                                {
                                    "Szoba azonosító": "62",
                                    "Foglalások száma": "3"
                                },
                                {
                                    "Szoba azonosító": "63",
                                    "Foglalások száma": "3"
                                },
                                {
                                    "Szoba azonosító": "64",
                                    "Foglalások száma": "5"
                                },
                                {
                                    "Szoba azonosító": "66",
                                    "Foglalások száma": "3"
                                },
                                {
                                    "Szoba azonosító": "67",
                                    "Foglalások száma": "2"
                                },
                                {
                                    "Szoba azonosító": "69",
                                    "Foglalások száma": "2"
                                },
                                {
                                    "Szoba azonosító": "70",
                                    "Foglalások száma": "8"
                                },
                                {
                                    "Szoba azonosító": "71",
                                    "Foglalások száma": "2"
                                },
                                {
                                    "Szoba azonosító": "72",
                                    "Foglalások száma": "2"
                                },
                                {
                                    "Szoba azonosító": "73",
                                    "Foglalások száma": "4"
                                },
                                {
                                    "Szoba azonosító": "74",
                                    "Foglalások száma": "8"
                                },
                                {
                                    "Szoba azonosító": "75",
                                    "Foglalások száma": "2"
                                },
                                {
                                    "Szoba azonosító": "76",
                                    "Foglalások száma": "2"
                                },
                                {
                                    "Szoba azonosító": "77",
                                    "Foglalások száma": "3"
                                },
                                {
                                    "Szoba azonosító": "78",
                                    "Foglalások száma": "3"
                                },
                                {
                                    "Szoba azonosító": "79",
                                    "Foglalások száma": "4"
                                },
                                {
                                    "Szoba azonosító": "80",
                                    "Foglalások száma": "5"
                                },
                                {
                                    "Szoba azonosító": "81",
                                    "Foglalások száma": "3"
                                },
                                {
                                    "Szoba azonosító": "82",
                                    "Foglalások száma": "5"
                                },
                                {
                                    "Szoba azonosító": "83",
                                    "Foglalások száma": "5"
                                },
                                {
                                    "Szoba azonosító": "84",
                                    "Foglalások száma": "3"
                                },
                                {
                                    "Szoba azonosító": "85",
                                    "Foglalások száma": "2"
                                },
                                {
                                    "Szoba azonosító": "86",
                                    "Foglalások száma": "4"
                                },
                                {
                                    "Szoba azonosító": "87",
                                    "Foglalások száma": "5"
                                },
                                {
                                    "Szoba azonosító": "88",
                                    "Foglalások száma": "5"
                                },
                                {
                                    "Szoba azonosító": "89",
                                    "Foglalások száma": "8"
                                },
                                {
                                    "Szoba azonosító": "90",
                                    "Foglalások száma": "3"
                                },
                                {
                                    "Szoba azonosító": "91",
                                    "Foglalások száma": "2"
                                },
                                {
                                    "Szoba azonosító": "92",
                                    "Foglalások száma": "5"
                                },
                                {
                                    "Szoba azonosító": "93",
                                    "Foglalások száma": "3"
                                },
                                {
                                    "Szoba azonosító": "94",
                                    "Foglalások száma": "6"
                                },
                                {
                                    "Szoba azonosító": "95",
                                    "Foglalások száma": "3"
                                },
                                {
                                    "Szoba azonosító": "96",
                                    "Foglalások száma": "6"
                                },
                                {
                                    "Szoba azonosító": "97",
                                    "Foglalások száma": "5"
                                },
                                {
                                    "Szoba azonosító": "98",
                                    "Foglalások száma": "4"
                                },
                                {
                                    "Szoba azonosító": "99",
                                    "Foglalások száma": "4"
                                },
                                {
                                    "Szoba azonosító": "100",
                                    "Foglalások száma": "2"
                                },
                                {
                                    "Szoba azonosító": "101",
                                    "Foglalások száma": "1"
                                },
                                {
                                    "Szoba azonosító": "102",
                                    "Foglalások száma": "1"
                                },
                                {
                                    "Szoba azonosító": "103",
                                    "Foglalások száma": "1"
                                },
                                {
                                    "Szoba azonosító": "104",
                                    "Foglalások száma": "3"
                                },
                                {
                                    "Szoba azonosító": "106",
                                    "Foglalások száma": "4"
                                },
                                {
                                    "Szoba azonosító": "107",
                                    "Foglalások száma": "4"
                                },
                                {
                                    "Szoba azonosító": "108",
                                    "Foglalások száma": "1"
                                },
                                {
                                    "Szoba azonosító": "109",
                                    "Foglalások száma": "2"
                                },
                                {
                                    "Szoba azonosító": "110",
                                    "Foglalások száma": "5"
                                },
                                {
                                    "Szoba azonosító": "111",
                                    "Foglalások száma": "1"
                                },
                                {
                                    "Szoba azonosító": "112",
                                    "Foglalások száma": "4"
                                },
                                {
                                    "Szoba azonosító": "113",
                                    "Foglalások száma": "2"
                                },
                                {
                                    "Szoba azonosító": "114",
                                    "Foglalások száma": "1"
                                },
                                {
                                    "Szoba azonosító": "115",
                                    "Foglalások száma": "5"
                                },
                                {
                                    "Szoba azonosító": "117",
                                    "Foglalások száma": "4"
                                },
                                {
                                    "Szoba azonosító": "118",
                                    "Foglalások száma": "2"
                                },
                                {
                                    "Szoba azonosító": "119",
                                    "Foglalások száma": "4"
                                },
                                {
                                    "Szoba azonosító": "120",
                                    "Foglalások száma": "2"
                                },
                                {
                                    "Szoba azonosító": "121",
                                    "Foglalások száma": "5"
                                },
                                {
                                    "Szoba azonosító": "122",
                                    "Foglalások száma": "3"
                                },
                                {
                                    "Szoba azonosító": "123",
                                    "Foglalások száma": "5"
                                },
                                {
                                    "Szoba azonosító": "124",
                                    "Foglalások száma": "4"
                                },
                                {
                                    "Szoba azonosító": "126",
                                    "Foglalások száma": "4"
                                },
                                {
                                    "Szoba azonosító": "127",
                                    "Foglalások száma": "5"
                                },
                                {
                                    "Szoba azonosító": "129",
                                    "Foglalások száma": "3"
                                },
                                {
                                    "Szoba azonosító": "130",
                                    "Foglalások száma": "5"
                                },
                                {
                                    "Szoba azonosító": "131",
                                    "Foglalások száma": "4"
                                },
                                {
                                    "Szoba azonosító": "132",
                                    "Foglalások száma": "4"
                                },
                                {
                                    "Szoba azonosító": "133",
                                    "Foglalások száma": "4"
                                },
                                {
                                    "Szoba azonosító": "134",
                                    "Foglalások száma": "4"
                                },
                                {
                                    "Szoba azonosító": "135",
                                    "Foglalások száma": "3"
                                },
                                {
                                    "Szoba azonosító": "136",
                                    "Foglalások száma": "2"
                                },
                                {
                                    "Szoba azonosító": "137",
                                    "Foglalások száma": "2"
                                },
                                {
                                    "Szoba azonosító": "138",
                                    "Foglalások száma": "5"
                                },
                                {
                                    "Szoba azonosító": "139",
                                    "Foglalások száma": "6"
                                },
                                {
                                    "Szoba azonosító": "140",
                                    "Foglalások száma": "5"
                                },
                                {
                                    "Szoba azonosító": "141",
                                    "Foglalások száma": "4"
                                },
                                {
                                    "Szoba azonosító": "142",
                                    "Foglalások száma": "1"
                                },
                                {
                                    "Szoba azonosító": "143",
                                    "Foglalások száma": "5"
                                },
                                {
                                    "Szoba azonosító": "144",
                                    "Foglalások száma": "2"
                                },
                                {
                                    "Szoba azonosító": "145",
                                    "Foglalások száma": "2"
                                },
                                {
                                    "Szoba azonosító": "146",
                                    "Foglalások száma": "3"
                                },
                                {
                                    "Szoba azonosító": "147",
                                    "Foglalások száma": "1"
                                },
                                {
                                    "Szoba azonosító": "148",
                                    "Foglalások száma": "5"
                                },
                                {
                                    "Szoba azonosító": "149",
                                    "Foglalások száma": "5"
                                },
                                {
                                    "Szoba azonosító": "150",
                                    "Foglalások száma": "6"
                                },
                                {
                                    "Szoba azonosító": "151",
                                    "Foglalások száma": "2"
                                },
                                {
                                    "Szoba azonosító": "152",
                                    "Foglalások száma": "3"
                                },
                                {
                                    "Szoba azonosító": "153",
                                    "Foglalások száma": "4"
                                },
                                {
                                    "Szoba azonosító": "154",
                                    "Foglalások száma": "3"
                                },
                                {
                                    "Szoba azonosító": "155",
                                    "Foglalások száma": "3"
                                },
                                {
                                    "Szoba azonosító": "156",
                                    "Foglalások száma": "2"
                                },
                                {
                                    "Szoba azonosító": "157",
                                    "Foglalások száma": "2"
                                },
                                {
                                    "Szoba azonosító": "158",
                                    "Foglalások száma": "3"
                                },
                                {
                                    "Szoba azonosító": "160",
                                    "Foglalások száma": "2"
                                },
                                {
                                    "Szoba azonosító": "161",
                                    "Foglalások száma": "3"
                                },
                                {
                                    "Szoba azonosító": "162",
                                    "Foglalások száma": "2"
                                },
                                {
                                    "Szoba azonosító": "163",
                                    "Foglalások száma": "5"
                                },
                                {
                                    "Szoba azonosító": "164",
                                    "Foglalások száma": "4"
                                },
                                {
                                    "Szoba azonosító": "165",
                                    "Foglalások száma": "5"
                                },
                                {
                                    "Szoba azonosító": "166",
                                    "Foglalások száma": "3"
                                },
                                {
                                    "Szoba azonosító": "167",
                                    "Foglalások száma": "2"
                                },
                                {
                                    "Szoba azonosító": "168",
                                    "Foglalások száma": "1"
                                },
                                {
                                    "Szoba azonosító": "169",
                                    "Foglalások száma": "3"
                                },
                                {
                                    "Szoba azonosító": "170",
                                    "Foglalások száma": "3"
                                },
                                {
                                    "Szoba azonosító": "171",
                                    "Foglalások száma": "5"
                                },
                                {
                                    "Szoba azonosító": "172",
                                    "Foglalások száma": "6"
                                },
                                {
                                    "Szoba azonosító": "173",
                                    "Foglalások száma": "3"
                                },
                                {
                                    "Szoba azonosító": "174",
                                    "Foglalások száma": "4"
                                },
                                {
                                    "Szoba azonosító": "175",
                                    "Foglalások száma": "3"
                                },
                                {
                                    "Szoba azonosító": "176",
                                    "Foglalások száma": "2"
                                },
                                {
                                    "Szoba azonosító": "177",
                                    "Foglalások száma": "1"
                                },
                                {
                                    "Szoba azonosító": "178",
                                    "Foglalások száma": "1"
                                },
                                {
                                    "Szoba azonosító": "179",
                                    "Foglalások száma": "2"
                                },
                                {
                                    "Szoba azonosító": "180",
                                    "Foglalások száma": "1"
                                },
                                {
                                    "Szoba azonosító": "181",
                                    "Foglalások száma": "5"
                                },
                                {
                                    "Szoba azonosító": "182",
                                    "Foglalások száma": "11"
                                },
                                {
                                    "Szoba azonosító": "183",
                                    "Foglalások száma": "3"
                                },
                                {
                                    "Szoba azonosító": "184",
                                    "Foglalások száma": "4"
                                },
                                {
                                    "Szoba azonosító": "185",
                                    "Foglalások száma": "10"
                                },
                                {
                                    "Szoba azonosító": "186",
                                    "Foglalások száma": "1"
                                },
                                {
                                    "Szoba azonosító": "187",
                                    "Foglalások száma": "6"
                                },
                                {
                                    "Szoba azonosító": "188",
                                    "Foglalások száma": "2"
                                },
                                {
                                    "Szoba azonosító": "189",
                                    "Foglalások száma": "1"
                                },
                                {
                                    "Szoba azonosító": "190",
                                    "Foglalások száma": "5"
                                },
                                {
                                    "Szoba azonosító": "191",
                                    "Foglalások száma": "3"
                                },
                                {
                                    "Szoba azonosító": "192",
                                    "Foglalások száma": "1"
                                },
                                {
                                    "Szoba azonosító": "193",
                                    "Foglalások száma": "2"
                                },
                                {
                                    "Szoba azonosító": "194",
                                    "Foglalások száma": "1"
                                },
                                {
                                    "Szoba azonosító": "195",
                                    "Foglalások száma": "5"
                                },
                                {
                                    "Szoba azonosító": "196",
                                    "Foglalások száma": "2"
                                },
                                {
                                    "Szoba azonosító": "197",
                                    "Foglalások száma": "6"
                                },
                                {
                                    "Szoba azonosító": "198",
                                    "Foglalások száma": "7"
                                },
                                {
                                    "Szoba azonosító": "Összesen",
                                    "Foglalások száma": "668"
                                }
                            ]
                        },
                        "text/html": [
                            "<table>",
                            "<tr><th>Szoba azonosító</th><th>Foglalások száma</th></tr>",
                            "<tr><td>1</td><td>7</td></tr>",
                            "<tr><td>2</td><td>2</td></tr>",
                            "<tr><td>3</td><td>3</td></tr>",
                            "<tr><td>4</td><td>5</td></tr>",
                            "<tr><td>5</td><td>2</td></tr>",
                            "<tr><td>6</td><td>5</td></tr>",
                            "<tr><td>7</td><td>6</td></tr>",
                            "<tr><td>8</td><td>5</td></tr>",
                            "<tr><td>9</td><td>4</td></tr>",
                            "<tr><td>10</td><td>4</td></tr>",
                            "<tr><td>11</td><td>4</td></tr>",
                            "<tr><td>12</td><td>7</td></tr>",
                            "<tr><td>13</td><td>4</td></tr>",
                            "<tr><td>14</td><td>3</td></tr>",
                            "<tr><td>15</td><td>4</td></tr>",
                            "<tr><td>16</td><td>1</td></tr>",
                            "<tr><td>17</td><td>2</td></tr>",
                            "<tr><td>18</td><td>3</td></tr>",
                            "<tr><td>19</td><td>4</td></tr>",
                            "<tr><td>20</td><td>5</td></tr>",
                            "<tr><td>21</td><td>1</td></tr>",
                            "<tr><td>22</td><td>2</td></tr>",
                            "<tr><td>23</td><td>3</td></tr>",
                            "<tr><td>24</td><td>3</td></tr>",
                            "<tr><td>25</td><td>1</td></tr>",
                            "<tr><td>27</td><td>5</td></tr>",
                            "<tr><td>28</td><td>5</td></tr>",
                            "<tr><td>29</td><td>3</td></tr>",
                            "<tr><td>30</td><td>2</td></tr>",
                            "<tr><td>31</td><td>1</td></tr>",
                            "<tr><td>32</td><td>1</td></tr>",
                            "<tr><td>33</td><td>3</td></tr>",
                            "<tr><td>34</td><td>3</td></tr>",
                            "<tr><td>35</td><td>6</td></tr>",
                            "<tr><td>36</td><td>4</td></tr>",
                            "<tr><td>37</td><td>2</td></tr>",
                            "<tr><td>38</td><td>5</td></tr>",
                            "<tr><td>39</td><td>4</td></tr>",
                            "<tr><td>40</td><td>3</td></tr>",
                            "<tr><td>41</td><td>1</td></tr>",
                            "<tr><td>42</td><td>5</td></tr>",
                            "<tr><td>43</td><td>4</td></tr>",
                            "<tr><td>44</td><td>6</td></tr>",
                            "<tr><td>45</td><td>4</td></tr>",
                            "<tr><td>46</td><td>3</td></tr>",
                            "<tr><td>47</td><td>2</td></tr>",
                            "<tr><td>48</td><td>6</td></tr>",
                            "<tr><td>49</td><td>5</td></tr>",
                            "<tr><td>50</td><td>3</td></tr>",
                            "<tr><td>51</td><td>3</td></tr>",
                            "<tr><td>52</td><td>5</td></tr>",
                            "<tr><td>54</td><td>4</td></tr>",
                            "<tr><td>55</td><td>3</td></tr>",
                            "<tr><td>56</td><td>1</td></tr>",
                            "<tr><td>57</td><td>3</td></tr>",
                            "<tr><td>58</td><td>8</td></tr>",
                            "<tr><td>59</td><td>4</td></tr>",
                            "<tr><td>60</td><td>1</td></tr>",
                            "<tr><td>61</td><td>4</td></tr>",
                            "<tr><td>62</td><td>3</td></tr>",
                            "<tr><td>63</td><td>3</td></tr>",
                            "<tr><td>64</td><td>5</td></tr>",
                            "<tr><td>66</td><td>3</td></tr>",
                            "<tr><td>67</td><td>2</td></tr>",
                            "<tr><td>69</td><td>2</td></tr>",
                            "<tr><td>70</td><td>8</td></tr>",
                            "<tr><td>71</td><td>2</td></tr>",
                            "<tr><td>72</td><td>2</td></tr>",
                            "<tr><td>73</td><td>4</td></tr>",
                            "<tr><td>74</td><td>8</td></tr>",
                            "<tr><td>75</td><td>2</td></tr>",
                            "<tr><td>76</td><td>2</td></tr>",
                            "<tr><td>77</td><td>3</td></tr>",
                            "<tr><td>78</td><td>3</td></tr>",
                            "<tr><td>79</td><td>4</td></tr>",
                            "<tr><td>80</td><td>5</td></tr>",
                            "<tr><td>81</td><td>3</td></tr>",
                            "<tr><td>82</td><td>5</td></tr>",
                            "<tr><td>83</td><td>5</td></tr>",
                            "<tr><td>84</td><td>3</td></tr>",
                            "<tr><td>85</td><td>2</td></tr>",
                            "<tr><td>86</td><td>4</td></tr>",
                            "<tr><td>87</td><td>5</td></tr>",
                            "<tr><td>88</td><td>5</td></tr>",
                            "<tr><td>89</td><td>8</td></tr>",
                            "<tr><td>90</td><td>3</td></tr>",
                            "<tr><td>91</td><td>2</td></tr>",
                            "<tr><td>92</td><td>5</td></tr>",
                            "<tr><td>93</td><td>3</td></tr>",
                            "<tr><td>94</td><td>6</td></tr>",
                            "<tr><td>95</td><td>3</td></tr>",
                            "<tr><td>96</td><td>6</td></tr>",
                            "<tr><td>97</td><td>5</td></tr>",
                            "<tr><td>98</td><td>4</td></tr>",
                            "<tr><td>99</td><td>4</td></tr>",
                            "<tr><td>100</td><td>2</td></tr>",
                            "<tr><td>101</td><td>1</td></tr>",
                            "<tr><td>102</td><td>1</td></tr>",
                            "<tr><td>103</td><td>1</td></tr>",
                            "<tr><td>104</td><td>3</td></tr>",
                            "<tr><td>106</td><td>4</td></tr>",
                            "<tr><td>107</td><td>4</td></tr>",
                            "<tr><td>108</td><td>1</td></tr>",
                            "<tr><td>109</td><td>2</td></tr>",
                            "<tr><td>110</td><td>5</td></tr>",
                            "<tr><td>111</td><td>1</td></tr>",
                            "<tr><td>112</td><td>4</td></tr>",
                            "<tr><td>113</td><td>2</td></tr>",
                            "<tr><td>114</td><td>1</td></tr>",
                            "<tr><td>115</td><td>5</td></tr>",
                            "<tr><td>117</td><td>4</td></tr>",
                            "<tr><td>118</td><td>2</td></tr>",
                            "<tr><td>119</td><td>4</td></tr>",
                            "<tr><td>120</td><td>2</td></tr>",
                            "<tr><td>121</td><td>5</td></tr>",
                            "<tr><td>122</td><td>3</td></tr>",
                            "<tr><td>123</td><td>5</td></tr>",
                            "<tr><td>124</td><td>4</td></tr>",
                            "<tr><td>126</td><td>4</td></tr>",
                            "<tr><td>127</td><td>5</td></tr>",
                            "<tr><td>129</td><td>3</td></tr>",
                            "<tr><td>130</td><td>5</td></tr>",
                            "<tr><td>131</td><td>4</td></tr>",
                            "<tr><td>132</td><td>4</td></tr>",
                            "<tr><td>133</td><td>4</td></tr>",
                            "<tr><td>134</td><td>4</td></tr>",
                            "<tr><td>135</td><td>3</td></tr>",
                            "<tr><td>136</td><td>2</td></tr>",
                            "<tr><td>137</td><td>2</td></tr>",
                            "<tr><td>138</td><td>5</td></tr>",
                            "<tr><td>139</td><td>6</td></tr>",
                            "<tr><td>140</td><td>5</td></tr>",
                            "<tr><td>141</td><td>4</td></tr>",
                            "<tr><td>142</td><td>1</td></tr>",
                            "<tr><td>143</td><td>5</td></tr>",
                            "<tr><td>144</td><td>2</td></tr>",
                            "<tr><td>145</td><td>2</td></tr>",
                            "<tr><td>146</td><td>3</td></tr>",
                            "<tr><td>147</td><td>1</td></tr>",
                            "<tr><td>148</td><td>5</td></tr>",
                            "<tr><td>149</td><td>5</td></tr>",
                            "<tr><td>150</td><td>6</td></tr>",
                            "<tr><td>151</td><td>2</td></tr>",
                            "<tr><td>152</td><td>3</td></tr>",
                            "<tr><td>153</td><td>4</td></tr>",
                            "<tr><td>154</td><td>3</td></tr>",
                            "<tr><td>155</td><td>3</td></tr>",
                            "<tr><td>156</td><td>2</td></tr>",
                            "<tr><td>157</td><td>2</td></tr>",
                            "<tr><td>158</td><td>3</td></tr>",
                            "<tr><td>160</td><td>2</td></tr>",
                            "<tr><td>161</td><td>3</td></tr>",
                            "<tr><td>162</td><td>2</td></tr>",
                            "<tr><td>163</td><td>5</td></tr>",
                            "<tr><td>164</td><td>4</td></tr>",
                            "<tr><td>165</td><td>5</td></tr>",
                            "<tr><td>166</td><td>3</td></tr>",
                            "<tr><td>167</td><td>2</td></tr>",
                            "<tr><td>168</td><td>1</td></tr>",
                            "<tr><td>169</td><td>3</td></tr>",
                            "<tr><td>170</td><td>3</td></tr>",
                            "<tr><td>171</td><td>5</td></tr>",
                            "<tr><td>172</td><td>6</td></tr>",
                            "<tr><td>173</td><td>3</td></tr>",
                            "<tr><td>174</td><td>4</td></tr>",
                            "<tr><td>175</td><td>3</td></tr>",
                            "<tr><td>176</td><td>2</td></tr>",
                            "<tr><td>177</td><td>1</td></tr>",
                            "<tr><td>178</td><td>1</td></tr>",
                            "<tr><td>179</td><td>2</td></tr>",
                            "<tr><td>180</td><td>1</td></tr>",
                            "<tr><td>181</td><td>5</td></tr>",
                            "<tr><td>182</td><td>11</td></tr>",
                            "<tr><td>183</td><td>3</td></tr>",
                            "<tr><td>184</td><td>4</td></tr>",
                            "<tr><td>185</td><td>10</td></tr>",
                            "<tr><td>186</td><td>1</td></tr>",
                            "<tr><td>187</td><td>6</td></tr>",
                            "<tr><td>188</td><td>2</td></tr>",
                            "<tr><td>189</td><td>1</td></tr>",
                            "<tr><td>190</td><td>5</td></tr>",
                            "<tr><td>191</td><td>3</td></tr>",
                            "<tr><td>192</td><td>1</td></tr>",
                            "<tr><td>193</td><td>2</td></tr>",
                            "<tr><td>194</td><td>1</td></tr>",
                            "<tr><td>195</td><td>5</td></tr>",
                            "<tr><td>196</td><td>2</td></tr>",
                            "<tr><td>197</td><td>6</td></tr>",
                            "<tr><td>198</td><td>7</td></tr>",
                            "<tr><td>Összesen</td><td>668</td></tr>",
                            "</table>"
                        ]
                    }
                }
            ],
            "execution_count": 22
        },
        {
            "cell_type": "code",
            "source": [
                "SELECT f.szoba_fk AS 'Szoba azonosító',\r\n",
                "sz.FEROHELY AS 'Férőhely',\r\n",
                "DENSE_RANK() OVER(ORDER BY COUNT(*) DESC, sz.FEROHELY) AS 'Helyezés'\r\n",
                "FROM Foglalas f JOIN Szoba sz ON sz.SZOBA_ID=f.SZOBA_FK\r\n",
                "GROUP BY f.SZOBA_FK, sz.FEROHELY"
            ],
            "metadata": {
                "azdata_cell_guid": "101ff460-89f7-4415-adf8-0b716586947c",
                "language": "sql"
            },
            "outputs": [
                {
                    "output_type": "display_data",
                    "data": {
                        "text/html": "(197 rows affected)"
                    },
                    "metadata": {}
                },
                {
                    "output_type": "display_data",
                    "data": {
                        "text/html": "Total execution time: 00:00:00.027"
                    },
                    "metadata": {}
                },
                {
                    "output_type": "execute_result",
                    "metadata": {},
                    "execution_count": 27,
                    "data": {
                        "application/vnd.dataresource+json": {
                            "schema": {
                                "fields": [
                                    {
                                        "name": "Szoba azonosító"
                                    },
                                    {
                                        "name": "Férőhely"
                                    },
                                    {
                                        "name": "Helyezés"
                                    }
                                ]
                            },
                            "data": [
                                {
                                    "Szoba azonosító": "58",
                                    "Férőhely": "2",
                                    "Helyezés": "1"
                                },
                                {
                                    "Szoba azonosító": "182",
                                    "Férőhely": "2",
                                    "Helyezés": "2"
                                },
                                {
                                    "Szoba azonosító": "185",
                                    "Férőhely": "3",
                                    "Helyezés": "3"
                                },
                                {
                                    "Szoba azonosító": "70",
                                    "Férőhely": "2",
                                    "Helyezés": "4"
                                },
                                {
                                    "Szoba azonosító": "94",
                                    "Férőhely": "2",
                                    "Helyezés": "5"
                                },
                                {
                                    "Szoba azonosító": "12",
                                    "Férőhely": "2",
                                    "Helyezés": "6"
                                },
                                {
                                    "Szoba azonosító": "172",
                                    "Férőhely": "2",
                                    "Helyezés": "6"
                                },
                                {
                                    "Szoba azonosító": "35",
                                    "Férőhely": "3",
                                    "Helyezés": "7"
                                },
                                {
                                    "Szoba azonosító": "48",
                                    "Férőhely": "3",
                                    "Helyezés": "7"
                                },
                                {
                                    "Szoba azonosító": "74",
                                    "Férőhely": "3",
                                    "Helyezés": "7"
                                },
                                {
                                    "Szoba azonosító": "122",
                                    "Férőhely": "3",
                                    "Helyezés": "7"
                                },
                                {
                                    "Szoba azonosító": "121",
                                    "Férőhely": "2",
                                    "Helyezés": "8"
                                },
                                {
                                    "Szoba azonosító": "140",
                                    "Férőhely": "2",
                                    "Helyezés": "8"
                                },
                                {
                                    "Szoba azonosító": "110",
                                    "Férőhely": "2",
                                    "Helyezés": "8"
                                },
                                {
                                    "Szoba azonosító": "55",
                                    "Férőhely": "2",
                                    "Helyezés": "8"
                                },
                                {
                                    "Szoba azonosító": "38",
                                    "Férőhely": "2",
                                    "Helyezés": "8"
                                },
                                {
                                    "Szoba azonosító": "1",
                                    "Férőhely": "3",
                                    "Helyezés": "9"
                                },
                                {
                                    "Szoba azonosító": "3",
                                    "Férőhely": "3",
                                    "Helyezés": "9"
                                },
                                {
                                    "Szoba azonosító": "43",
                                    "Férőhely": "3",
                                    "Helyezés": "9"
                                },
                                {
                                    "Szoba azonosító": "83",
                                    "Férőhely": "3",
                                    "Helyezés": "9"
                                },
                                {
                                    "Szoba azonosító": "88",
                                    "Férőhely": "3",
                                    "Helyezés": "9"
                                },
                                {
                                    "Szoba azonosító": "89",
                                    "Férőhely": "3",
                                    "Helyezés": "9"
                                },
                                {
                                    "Szoba azonosító": "117",
                                    "Férőhely": "3",
                                    "Helyezés": "9"
                                },
                                {
                                    "Szoba azonosító": "198",
                                    "Férőhely": "3",
                                    "Helyezés": "9"
                                },
                                {
                                    "Szoba azonosító": "149",
                                    "Férőhely": "2",
                                    "Helyezés": "10"
                                },
                                {
                                    "Szoba azonosító": "156",
                                    "Férőhely": "2",
                                    "Helyezés": "10"
                                },
                                {
                                    "Szoba azonosító": "163",
                                    "Férőhely": "2",
                                    "Helyezés": "10"
                                },
                                {
                                    "Szoba azonosító": "165",
                                    "Férőhely": "2",
                                    "Helyezés": "10"
                                },
                                {
                                    "Szoba azonosító": "118",
                                    "Férőhely": "2",
                                    "Helyezés": "10"
                                },
                                {
                                    "Szoba azonosító": "109",
                                    "Férőhely": "2",
                                    "Helyezés": "10"
                                },
                                {
                                    "Szoba azonosító": "127",
                                    "Férőhely": "2",
                                    "Helyezés": "10"
                                },
                                {
                                    "Szoba azonosító": "139",
                                    "Férőhely": "2",
                                    "Helyezés": "10"
                                },
                                {
                                    "Szoba azonosító": "80",
                                    "Férőhely": "2",
                                    "Helyezés": "10"
                                },
                                {
                                    "Szoba azonosító": "59",
                                    "Férőhely": "2",
                                    "Helyezés": "10"
                                },
                                {
                                    "Szoba azonosító": "39",
                                    "Férőhely": "2",
                                    "Helyezés": "10"
                                },
                                {
                                    "Szoba azonosító": "27",
                                    "Férőhely": "3",
                                    "Helyezés": "11"
                                },
                                {
                                    "Szoba azonosító": "49",
                                    "Férőhely": "3",
                                    "Helyezés": "11"
                                },
                                {
                                    "Szoba azonosító": "96",
                                    "Férőhely": "3",
                                    "Helyezés": "11"
                                },
                                {
                                    "Szoba azonosító": "97",
                                    "Férőhely": "3",
                                    "Helyezés": "11"
                                },
                                {
                                    "Szoba azonosító": "138",
                                    "Férőhely": "3",
                                    "Helyezés": "11"
                                },
                                {
                                    "Szoba azonosító": "143",
                                    "Férőhely": "3",
                                    "Helyezés": "11"
                                },
                                {
                                    "Szoba azonosító": "115",
                                    "Férőhely": "3",
                                    "Helyezés": "11"
                                },
                                {
                                    "Szoba azonosító": "187",
                                    "Férőhely": "3",
                                    "Helyezés": "11"
                                },
                                {
                                    "Szoba azonosító": "193",
                                    "Férőhely": "3",
                                    "Helyezés": "11"
                                },
                                {
                                    "Szoba azonosító": "195",
                                    "Férőhely": "2",
                                    "Helyezés": "12"
                                },
                                {
                                    "Szoba azonosító": "161",
                                    "Férőhely": "2",
                                    "Helyezés": "12"
                                },
                                {
                                    "Szoba azonosító": "150",
                                    "Férőhely": "2",
                                    "Helyezés": "12"
                                },
                                {
                                    "Szoba azonosító": "148",
                                    "Férőhely": "2",
                                    "Helyezés": "12"
                                },
                                {
                                    "Szoba azonosító": "169",
                                    "Férőhely": "2",
                                    "Helyezés": "12"
                                },
                                {
                                    "Szoba azonosító": "106",
                                    "Férőhely": "2",
                                    "Helyezés": "12"
                                },
                                {
                                    "Szoba azonosító": "126",
                                    "Férőhely": "2",
                                    "Helyezés": "12"
                                },
                                {
                                    "Szoba azonosító": "145",
                                    "Férőhely": "2",
                                    "Helyezés": "12"
                                },
                                {
                                    "Szoba azonosító": "141",
                                    "Férőhely": "2",
                                    "Helyezés": "12"
                                },
                                {
                                    "Szoba azonosító": "130",
                                    "Férőhely": "2",
                                    "Helyezés": "12"
                                },
                                {
                                    "Szoba azonosító": "137",
                                    "Férőhely": "2",
                                    "Helyezés": "12"
                                },
                                {
                                    "Szoba azonosító": "78",
                                    "Férőhely": "2",
                                    "Helyezés": "12"
                                },
                                {
                                    "Szoba azonosító": "42",
                                    "Férőhely": "2",
                                    "Helyezés": "12"
                                },
                                {
                                    "Szoba azonosító": "64",
                                    "Férőhely": "2",
                                    "Helyezés": "12"
                                },
                                {
                                    "Szoba azonosító": "67",
                                    "Férőhely": "2",
                                    "Helyezés": "12"
                                },
                                {
                                    "Szoba azonosító": "28",
                                    "Férőhely": "2",
                                    "Helyezés": "12"
                                },
                                {
                                    "Szoba azonosító": "29",
                                    "Férőhely": "2",
                                    "Helyezés": "12"
                                },
                                {
                                    "Szoba azonosító": "19",
                                    "Férőhely": "2",
                                    "Helyezés": "12"
                                },
                                {
                                    "Szoba azonosító": "33",
                                    "Férőhely": "2",
                                    "Helyezés": "12"
                                },
                                {
                                    "Szoba azonosító": "4",
                                    "Férőhely": "2",
                                    "Helyezés": "12"
                                },
                                {
                                    "Szoba azonosító": "7",
                                    "Férőhely": "2",
                                    "Helyezés": "12"
                                },
                                {
                                    "Szoba azonosító": "15",
                                    "Férőhely": "2",
                                    "Helyezés": "12"
                                },
                                {
                                    "Szoba azonosító": "17",
                                    "Férőhely": "3",
                                    "Helyezés": "13"
                                },
                                {
                                    "Szoba azonosító": "18",
                                    "Férőhely": "3",
                                    "Helyezés": "13"
                                },
                                {
                                    "Szoba azonosító": "6",
                                    "Férőhely": "3",
                                    "Helyezés": "13"
                                },
                                {
                                    "Szoba azonosító": "9",
                                    "Férőhely": "3",
                                    "Helyezés": "13"
                                },
                                {
                                    "Szoba azonosító": "22",
                                    "Férőhely": "3",
                                    "Helyezés": "13"
                                },
                                {
                                    "Szoba azonosító": "36",
                                    "Férőhely": "3",
                                    "Helyezés": "13"
                                },
                                {
                                    "Szoba azonosító": "44",
                                    "Férőhely": "3",
                                    "Helyezés": "13"
                                },
                                {
                                    "Szoba azonosító": "54",
                                    "Férőhely": "3",
                                    "Helyezés": "13"
                                },
                                {
                                    "Szoba azonosító": "77",
                                    "Férőhely": "3",
                                    "Helyezés": "13"
                                },
                                {
                                    "Szoba azonosító": "82",
                                    "Férőhely": "3",
                                    "Helyezés": "13"
                                },
                                {
                                    "Szoba azonosító": "92",
                                    "Férőhely": "3",
                                    "Helyezés": "13"
                                },
                                {
                                    "Szoba azonosító": "132",
                                    "Férőhely": "3",
                                    "Helyezés": "13"
                                },
                                {
                                    "Szoba azonosító": "133",
                                    "Férőhely": "3",
                                    "Helyezés": "13"
                                },
                                {
                                    "Szoba azonosító": "134",
                                    "Férőhely": "3",
                                    "Helyezés": "13"
                                },
                                {
                                    "Szoba azonosító": "146",
                                    "Férőhely": "3",
                                    "Helyezés": "13"
                                },
                                {
                                    "Szoba azonosító": "124",
                                    "Férőhely": "3",
                                    "Helyezés": "13"
                                },
                                {
                                    "Szoba azonosító": "120",
                                    "Férőhely": "3",
                                    "Helyezés": "13"
                                },
                                {
                                    "Szoba azonosító": "176",
                                    "Férőhely": "3",
                                    "Helyezés": "13"
                                },
                                {
                                    "Szoba azonosító": "181",
                                    "Férőhely": "3",
                                    "Helyezés": "13"
                                },
                                {
                                    "Szoba azonosító": "188",
                                    "Férőhely": "3",
                                    "Helyezés": "13"
                                },
                                {
                                    "Szoba azonosító": "197",
                                    "Férőhely": "3",
                                    "Helyezés": "13"
                                },
                                {
                                    "Szoba azonosító": "189",
                                    "Férőhely": "2",
                                    "Helyezés": "14"
                                },
                                {
                                    "Szoba azonosító": "190",
                                    "Férőhely": "2",
                                    "Helyezés": "14"
                                },
                                {
                                    "Szoba azonosító": "191",
                                    "Férőhely": "2",
                                    "Helyezés": "14"
                                },
                                {
                                    "Szoba azonosító": "168",
                                    "Férőhely": "2",
                                    "Helyezés": "14"
                                },
                                {
                                    "Szoba azonosító": "175",
                                    "Férőhely": "2",
                                    "Helyezés": "14"
                                },
                                {
                                    "Szoba azonosító": "170",
                                    "Férőhely": "2",
                                    "Helyezés": "14"
                                },
                                {
                                    "Szoba azonosító": "171",
                                    "Férőhely": "2",
                                    "Helyezés": "14"
                                },
                                {
                                    "Szoba azonosító": "157",
                                    "Férőhely": "2",
                                    "Helyezés": "14"
                                },
                                {
                                    "Szoba azonosító": "154",
                                    "Férőhely": "2",
                                    "Helyezés": "14"
                                },
                                {
                                    "Szoba azonosító": "164",
                                    "Férőhely": "2",
                                    "Helyezés": "14"
                                },
                                {
                                    "Szoba azonosító": "119",
                                    "Férőhely": "2",
                                    "Helyezés": "14"
                                },
                                {
                                    "Szoba azonosító": "107",
                                    "Férőhely": "2",
                                    "Helyezés": "14"
                                },
                                {
                                    "Szoba azonosító": "128",
                                    "Férőhely": "2",
                                    "Helyezés": "14"
                                },
                                {
                                    "Szoba azonosító": "131",
                                    "Férőhely": "2",
                                    "Helyezés": "14"
                                },
                                {
                                    "Szoba azonosító": "99",
                                    "Férőhely": "2",
                                    "Helyezés": "14"
                                },
                                {
                                    "Szoba azonosító": "111",
                                    "Férőhely": "2",
                                    "Helyezés": "14"
                                },
                                {
                                    "Szoba azonosító": "81",
                                    "Férőhely": "2",
                                    "Helyezés": "14"
                                },
                                {
                                    "Szoba azonosító": "86",
                                    "Férőhely": "2",
                                    "Helyezés": "14"
                                },
                                {
                                    "Szoba azonosító": "52",
                                    "Férőhely": "2",
                                    "Helyezés": "14"
                                },
                                {
                                    "Szoba azonosító": "45",
                                    "Férőhely": "2",
                                    "Helyezés": "14"
                                },
                                {
                                    "Szoba azonosító": "62",
                                    "Férőhely": "2",
                                    "Helyezés": "14"
                                },
                                {
                                    "Szoba azonosító": "61",
                                    "Férőhely": "3",
                                    "Helyezés": "15"
                                },
                                {
                                    "Szoba azonosító": "51",
                                    "Férőhely": "3",
                                    "Helyezés": "15"
                                },
                                {
                                    "Szoba azonosító": "20",
                                    "Férőhely": "3",
                                    "Helyezés": "15"
                                },
                                {
                                    "Szoba azonosító": "8",
                                    "Férőhely": "3",
                                    "Helyezés": "15"
                                },
                                {
                                    "Szoba azonosító": "16",
                                    "Férőhely": "3",
                                    "Helyezés": "15"
                                },
                                {
                                    "Szoba azonosító": "87",
                                    "Férőhely": "3",
                                    "Helyezés": "15"
                                },
                                {
                                    "Szoba azonosító": "79",
                                    "Férőhely": "3",
                                    "Helyezés": "15"
                                },
                                {
                                    "Szoba azonosító": "112",
                                    "Férőhely": "3",
                                    "Helyezés": "15"
                                },
                                {
                                    "Szoba azonosító": "113",
                                    "Férőhely": "3",
                                    "Helyezés": "15"
                                },
                                {
                                    "Szoba azonosító": "93",
                                    "Férőhely": "3",
                                    "Helyezés": "15"
                                },
                                {
                                    "Szoba azonosító": "144",
                                    "Férőhely": "3",
                                    "Helyezés": "15"
                                },
                                {
                                    "Szoba azonosító": "123",
                                    "Férőhely": "3",
                                    "Helyezés": "15"
                                },
                                {
                                    "Szoba azonosító": "153",
                                    "Férőhely": "3",
                                    "Helyezés": "15"
                                },
                                {
                                    "Szoba azonosító": "160",
                                    "Férőhely": "3",
                                    "Helyezés": "15"
                                },
                                {
                                    "Szoba azonosító": "155",
                                    "Férőhely": "3",
                                    "Helyezés": "15"
                                },
                                {
                                    "Szoba azonosító": "152",
                                    "Férőhely": "2",
                                    "Helyezés": "16"
                                },
                                {
                                    "Szoba azonosító": "173",
                                    "Férőhely": "2",
                                    "Helyezés": "16"
                                },
                                {
                                    "Szoba azonosító": "174",
                                    "Férőhely": "2",
                                    "Helyezés": "16"
                                },
                                {
                                    "Szoba azonosító": "186",
                                    "Férőhely": "2",
                                    "Helyezés": "16"
                                },
                                {
                                    "Szoba azonosító": "196",
                                    "Férőhely": "2",
                                    "Helyezés": "16"
                                },
                                {
                                    "Szoba azonosító": "184",
                                    "Férőhely": "2",
                                    "Helyezés": "16"
                                },
                                {
                                    "Szoba azonosító": "129",
                                    "Férőhely": "2",
                                    "Helyezés": "16"
                                },
                                {
                                    "Szoba azonosító": "100",
                                    "Férőhely": "2",
                                    "Helyezés": "16"
                                },
                                {
                                    "Szoba azonosító": "114",
                                    "Férőhely": "2",
                                    "Helyezés": "16"
                                },
                                {
                                    "Szoba azonosító": "98",
                                    "Férőhely": "2",
                                    "Helyezés": "16"
                                },
                                {
                                    "Szoba azonosító": "103",
                                    "Férőhely": "2",
                                    "Helyezés": "16"
                                },
                                {
                                    "Szoba azonosító": "85",
                                    "Férőhely": "2",
                                    "Helyezés": "16"
                                },
                                {
                                    "Szoba azonosító": "91",
                                    "Férőhely": "2",
                                    "Helyezés": "16"
                                },
                                {
                                    "Szoba azonosító": "11",
                                    "Férőhely": "2",
                                    "Helyezés": "16"
                                },
                                {
                                    "Szoba azonosító": "5",
                                    "Férőhely": "2",
                                    "Helyezés": "16"
                                },
                                {
                                    "Szoba azonosító": "21",
                                    "Férőhely": "2",
                                    "Helyezés": "16"
                                },
                                {
                                    "Szoba azonosító": "50",
                                    "Férőhely": "2",
                                    "Helyezés": "16"
                                },
                                {
                                    "Szoba azonosító": "57",
                                    "Férőhely": "2",
                                    "Helyezés": "16"
                                },
                                {
                                    "Szoba azonosító": "63",
                                    "Férőhely": "2",
                                    "Helyezés": "16"
                                },
                                {
                                    "Szoba azonosító": "72",
                                    "Férőhely": "2",
                                    "Helyezés": "16"
                                },
                                {
                                    "Szoba azonosító": "73",
                                    "Férőhely": "2",
                                    "Helyezés": "16"
                                },
                                {
                                    "Szoba azonosító": "66",
                                    "Férőhely": "3",
                                    "Helyezés": "17"
                                },
                                {
                                    "Szoba azonosító": "69",
                                    "Férőhely": "3",
                                    "Helyezés": "17"
                                },
                                {
                                    "Szoba azonosító": "46",
                                    "Férőhely": "3",
                                    "Helyezés": "17"
                                },
                                {
                                    "Szoba azonosító": "34",
                                    "Férőhely": "3",
                                    "Helyezés": "17"
                                },
                                {
                                    "Szoba azonosító": "40",
                                    "Férőhely": "3",
                                    "Helyezés": "17"
                                },
                                {
                                    "Szoba azonosító": "2",
                                    "Férőhely": "3",
                                    "Helyezés": "17"
                                },
                                {
                                    "Szoba azonosító": "10",
                                    "Férőhely": "3",
                                    "Helyezés": "17"
                                },
                                {
                                    "Szoba azonosító": "13",
                                    "Férőhely": "3",
                                    "Helyezés": "17"
                                },
                                {
                                    "Szoba azonosító": "90",
                                    "Férőhely": "3",
                                    "Helyezés": "17"
                                },
                                {
                                    "Szoba azonosító": "84",
                                    "Férőhely": "3",
                                    "Helyezés": "17"
                                },
                                {
                                    "Szoba azonosító": "104",
                                    "Férőhely": "3",
                                    "Helyezés": "17"
                                },
                                {
                                    "Szoba azonosító": "95",
                                    "Férőhely": "3",
                                    "Helyezés": "17"
                                },
                                {
                                    "Szoba azonosító": "183",
                                    "Férőhely": "3",
                                    "Helyezés": "17"
                                },
                                {
                                    "Szoba azonosító": "177",
                                    "Férőhely": "3",
                                    "Helyezés": "17"
                                },
                                {
                                    "Szoba azonosító": "178",
                                    "Férőhely": "3",
                                    "Helyezés": "17"
                                },
                                {
                                    "Szoba azonosító": "180",
                                    "Férőhely": "2",
                                    "Helyezés": "18"
                                },
                                {
                                    "Szoba azonosító": "151",
                                    "Férőhely": "2",
                                    "Helyezés": "18"
                                },
                                {
                                    "Szoba azonosító": "158",
                                    "Férőhely": "2",
                                    "Helyezés": "18"
                                },
                                {
                                    "Szoba azonosító": "166",
                                    "Férőhely": "2",
                                    "Helyezés": "18"
                                },
                                {
                                    "Szoba azonosító": "101",
                                    "Férőhely": "2",
                                    "Helyezés": "18"
                                },
                                {
                                    "Szoba azonosító": "75",
                                    "Férőhely": "2",
                                    "Helyezés": "18"
                                },
                                {
                                    "Szoba azonosító": "76",
                                    "Férőhely": "2",
                                    "Helyezés": "18"
                                },
                                {
                                    "Szoba azonosító": "136",
                                    "Férőhely": "2",
                                    "Helyezés": "18"
                                },
                                {
                                    "Szoba azonosító": "23",
                                    "Férőhely": "2",
                                    "Helyezés": "18"
                                },
                                {
                                    "Szoba azonosító": "37",
                                    "Férőhely": "2",
                                    "Helyezés": "18"
                                },
                                {
                                    "Szoba azonosító": "68",
                                    "Férőhely": "2",
                                    "Helyezés": "18"
                                },
                                {
                                    "Szoba azonosító": "71",
                                    "Férőhely": "3",
                                    "Helyezés": "19"
                                },
                                {
                                    "Szoba azonosító": "30",
                                    "Férőhely": "3",
                                    "Helyezés": "19"
                                },
                                {
                                    "Szoba azonosító": "31",
                                    "Férőhely": "3",
                                    "Helyezés": "19"
                                },
                                {
                                    "Szoba azonosító": "14",
                                    "Férőhely": "3",
                                    "Helyezés": "19"
                                },
                                {
                                    "Szoba azonosító": "135",
                                    "Férőhely": "3",
                                    "Helyezés": "19"
                                },
                                {
                                    "Szoba azonosító": "162",
                                    "Férőhely": "3",
                                    "Helyezés": "19"
                                },
                                {
                                    "Szoba azonosító": "179",
                                    "Férőhely": "3",
                                    "Helyezés": "19"
                                },
                                {
                                    "Szoba azonosító": "24",
                                    "Férőhely": "4",
                                    "Helyezés": "20"
                                },
                                {
                                    "Szoba azonosító": "26",
                                    "Férőhely": "2",
                                    "Helyezés": "21"
                                },
                                {
                                    "Szoba azonosító": "47",
                                    "Férőhely": "2",
                                    "Helyezés": "21"
                                },
                                {
                                    "Szoba azonosító": "53",
                                    "Férőhely": "2",
                                    "Helyezés": "21"
                                },
                                {
                                    "Szoba azonosító": "56",
                                    "Férőhely": "2",
                                    "Helyezés": "21"
                                },
                                {
                                    "Szoba azonosító": "108",
                                    "Férőhely": "2",
                                    "Helyezés": "21"
                                },
                                {
                                    "Szoba azonosító": "102",
                                    "Férőhely": "2",
                                    "Helyezés": "21"
                                },
                                {
                                    "Szoba azonosító": "105",
                                    "Férőhely": "2",
                                    "Helyezés": "21"
                                },
                                {
                                    "Szoba azonosító": "192",
                                    "Férőhely": "2",
                                    "Helyezés": "21"
                                },
                                {
                                    "Szoba azonosító": "167",
                                    "Férőhely": "3",
                                    "Helyezés": "22"
                                },
                                {
                                    "Szoba azonosító": "116",
                                    "Férőhely": "3",
                                    "Helyezés": "22"
                                },
                                {
                                    "Szoba azonosító": "142",
                                    "Férőhely": "3",
                                    "Helyezés": "22"
                                },
                                {
                                    "Szoba azonosító": "25",
                                    "Férőhely": "3",
                                    "Helyezés": "22"
                                },
                                {
                                    "Szoba azonosító": "41",
                                    "Férőhely": "3",
                                    "Helyezés": "22"
                                },
                                {
                                    "Szoba azonosító": "32",
                                    "Férőhely": "2",
                                    "Helyezés": "23"
                                },
                                {
                                    "Szoba azonosító": "65",
                                    "Férőhely": "2",
                                    "Helyezés": "23"
                                },
                                {
                                    "Szoba azonosító": "147",
                                    "Férőhely": "2",
                                    "Helyezés": "23"
                                },
                                {
                                    "Szoba azonosító": "125",
                                    "Férőhely": "2",
                                    "Helyezés": "23"
                                },
                                {
                                    "Szoba azonosító": "194",
                                    "Férőhely": "2",
                                    "Helyezés": "23"
                                },
                                {
                                    "Szoba azonosító": "60",
                                    "Férőhely": "3",
                                    "Helyezés": "24"
                                }
                            ]
                        },
                        "text/html": [
                            "<table>",
                            "<tr><th>Szoba azonosító</th><th>Férőhely</th><th>Helyezés</th></tr>",
                            "<tr><td>58</td><td>2</td><td>1</td></tr>",
                            "<tr><td>182</td><td>2</td><td>2</td></tr>",
                            "<tr><td>185</td><td>3</td><td>3</td></tr>",
                            "<tr><td>70</td><td>2</td><td>4</td></tr>",
                            "<tr><td>94</td><td>2</td><td>5</td></tr>",
                            "<tr><td>12</td><td>2</td><td>6</td></tr>",
                            "<tr><td>172</td><td>2</td><td>6</td></tr>",
                            "<tr><td>35</td><td>3</td><td>7</td></tr>",
                            "<tr><td>48</td><td>3</td><td>7</td></tr>",
                            "<tr><td>74</td><td>3</td><td>7</td></tr>",
                            "<tr><td>122</td><td>3</td><td>7</td></tr>",
                            "<tr><td>121</td><td>2</td><td>8</td></tr>",
                            "<tr><td>140</td><td>2</td><td>8</td></tr>",
                            "<tr><td>110</td><td>2</td><td>8</td></tr>",
                            "<tr><td>55</td><td>2</td><td>8</td></tr>",
                            "<tr><td>38</td><td>2</td><td>8</td></tr>",
                            "<tr><td>1</td><td>3</td><td>9</td></tr>",
                            "<tr><td>3</td><td>3</td><td>9</td></tr>",
                            "<tr><td>43</td><td>3</td><td>9</td></tr>",
                            "<tr><td>83</td><td>3</td><td>9</td></tr>",
                            "<tr><td>88</td><td>3</td><td>9</td></tr>",
                            "<tr><td>89</td><td>3</td><td>9</td></tr>",
                            "<tr><td>117</td><td>3</td><td>9</td></tr>",
                            "<tr><td>198</td><td>3</td><td>9</td></tr>",
                            "<tr><td>149</td><td>2</td><td>10</td></tr>",
                            "<tr><td>156</td><td>2</td><td>10</td></tr>",
                            "<tr><td>163</td><td>2</td><td>10</td></tr>",
                            "<tr><td>165</td><td>2</td><td>10</td></tr>",
                            "<tr><td>118</td><td>2</td><td>10</td></tr>",
                            "<tr><td>109</td><td>2</td><td>10</td></tr>",
                            "<tr><td>127</td><td>2</td><td>10</td></tr>",
                            "<tr><td>139</td><td>2</td><td>10</td></tr>",
                            "<tr><td>80</td><td>2</td><td>10</td></tr>",
                            "<tr><td>59</td><td>2</td><td>10</td></tr>",
                            "<tr><td>39</td><td>2</td><td>10</td></tr>",
                            "<tr><td>27</td><td>3</td><td>11</td></tr>",
                            "<tr><td>49</td><td>3</td><td>11</td></tr>",
                            "<tr><td>96</td><td>3</td><td>11</td></tr>",
                            "<tr><td>97</td><td>3</td><td>11</td></tr>",
                            "<tr><td>138</td><td>3</td><td>11</td></tr>",
                            "<tr><td>143</td><td>3</td><td>11</td></tr>",
                            "<tr><td>115</td><td>3</td><td>11</td></tr>",
                            "<tr><td>187</td><td>3</td><td>11</td></tr>",
                            "<tr><td>193</td><td>3</td><td>11</td></tr>",
                            "<tr><td>195</td><td>2</td><td>12</td></tr>",
                            "<tr><td>161</td><td>2</td><td>12</td></tr>",
                            "<tr><td>150</td><td>2</td><td>12</td></tr>",
                            "<tr><td>148</td><td>2</td><td>12</td></tr>",
                            "<tr><td>169</td><td>2</td><td>12</td></tr>",
                            "<tr><td>106</td><td>2</td><td>12</td></tr>",
                            "<tr><td>126</td><td>2</td><td>12</td></tr>",
                            "<tr><td>145</td><td>2</td><td>12</td></tr>",
                            "<tr><td>141</td><td>2</td><td>12</td></tr>",
                            "<tr><td>130</td><td>2</td><td>12</td></tr>",
                            "<tr><td>137</td><td>2</td><td>12</td></tr>",
                            "<tr><td>78</td><td>2</td><td>12</td></tr>",
                            "<tr><td>42</td><td>2</td><td>12</td></tr>",
                            "<tr><td>64</td><td>2</td><td>12</td></tr>",
                            "<tr><td>67</td><td>2</td><td>12</td></tr>",
                            "<tr><td>28</td><td>2</td><td>12</td></tr>",
                            "<tr><td>29</td><td>2</td><td>12</td></tr>",
                            "<tr><td>19</td><td>2</td><td>12</td></tr>",
                            "<tr><td>33</td><td>2</td><td>12</td></tr>",
                            "<tr><td>4</td><td>2</td><td>12</td></tr>",
                            "<tr><td>7</td><td>2</td><td>12</td></tr>",
                            "<tr><td>15</td><td>2</td><td>12</td></tr>",
                            "<tr><td>17</td><td>3</td><td>13</td></tr>",
                            "<tr><td>18</td><td>3</td><td>13</td></tr>",
                            "<tr><td>6</td><td>3</td><td>13</td></tr>",
                            "<tr><td>9</td><td>3</td><td>13</td></tr>",
                            "<tr><td>22</td><td>3</td><td>13</td></tr>",
                            "<tr><td>36</td><td>3</td><td>13</td></tr>",
                            "<tr><td>44</td><td>3</td><td>13</td></tr>",
                            "<tr><td>54</td><td>3</td><td>13</td></tr>",
                            "<tr><td>77</td><td>3</td><td>13</td></tr>",
                            "<tr><td>82</td><td>3</td><td>13</td></tr>",
                            "<tr><td>92</td><td>3</td><td>13</td></tr>",
                            "<tr><td>132</td><td>3</td><td>13</td></tr>",
                            "<tr><td>133</td><td>3</td><td>13</td></tr>",
                            "<tr><td>134</td><td>3</td><td>13</td></tr>",
                            "<tr><td>146</td><td>3</td><td>13</td></tr>",
                            "<tr><td>124</td><td>3</td><td>13</td></tr>",
                            "<tr><td>120</td><td>3</td><td>13</td></tr>",
                            "<tr><td>176</td><td>3</td><td>13</td></tr>",
                            "<tr><td>181</td><td>3</td><td>13</td></tr>",
                            "<tr><td>188</td><td>3</td><td>13</td></tr>",
                            "<tr><td>197</td><td>3</td><td>13</td></tr>",
                            "<tr><td>189</td><td>2</td><td>14</td></tr>",
                            "<tr><td>190</td><td>2</td><td>14</td></tr>",
                            "<tr><td>191</td><td>2</td><td>14</td></tr>",
                            "<tr><td>168</td><td>2</td><td>14</td></tr>",
                            "<tr><td>175</td><td>2</td><td>14</td></tr>",
                            "<tr><td>170</td><td>2</td><td>14</td></tr>",
                            "<tr><td>171</td><td>2</td><td>14</td></tr>",
                            "<tr><td>157</td><td>2</td><td>14</td></tr>",
                            "<tr><td>154</td><td>2</td><td>14</td></tr>",
                            "<tr><td>164</td><td>2</td><td>14</td></tr>",
                            "<tr><td>119</td><td>2</td><td>14</td></tr>",
                            "<tr><td>107</td><td>2</td><td>14</td></tr>",
                            "<tr><td>128</td><td>2</td><td>14</td></tr>",
                            "<tr><td>131</td><td>2</td><td>14</td></tr>",
                            "<tr><td>99</td><td>2</td><td>14</td></tr>",
                            "<tr><td>111</td><td>2</td><td>14</td></tr>",
                            "<tr><td>81</td><td>2</td><td>14</td></tr>",
                            "<tr><td>86</td><td>2</td><td>14</td></tr>",
                            "<tr><td>52</td><td>2</td><td>14</td></tr>",
                            "<tr><td>45</td><td>2</td><td>14</td></tr>",
                            "<tr><td>62</td><td>2</td><td>14</td></tr>",
                            "<tr><td>61</td><td>3</td><td>15</td></tr>",
                            "<tr><td>51</td><td>3</td><td>15</td></tr>",
                            "<tr><td>20</td><td>3</td><td>15</td></tr>",
                            "<tr><td>8</td><td>3</td><td>15</td></tr>",
                            "<tr><td>16</td><td>3</td><td>15</td></tr>",
                            "<tr><td>87</td><td>3</td><td>15</td></tr>",
                            "<tr><td>79</td><td>3</td><td>15</td></tr>",
                            "<tr><td>112</td><td>3</td><td>15</td></tr>",
                            "<tr><td>113</td><td>3</td><td>15</td></tr>",
                            "<tr><td>93</td><td>3</td><td>15</td></tr>",
                            "<tr><td>144</td><td>3</td><td>15</td></tr>",
                            "<tr><td>123</td><td>3</td><td>15</td></tr>",
                            "<tr><td>153</td><td>3</td><td>15</td></tr>",
                            "<tr><td>160</td><td>3</td><td>15</td></tr>",
                            "<tr><td>155</td><td>3</td><td>15</td></tr>",
                            "<tr><td>152</td><td>2</td><td>16</td></tr>",
                            "<tr><td>173</td><td>2</td><td>16</td></tr>",
                            "<tr><td>174</td><td>2</td><td>16</td></tr>",
                            "<tr><td>186</td><td>2</td><td>16</td></tr>",
                            "<tr><td>196</td><td>2</td><td>16</td></tr>",
                            "<tr><td>184</td><td>2</td><td>16</td></tr>",
                            "<tr><td>129</td><td>2</td><td>16</td></tr>",
                            "<tr><td>100</td><td>2</td><td>16</td></tr>",
                            "<tr><td>114</td><td>2</td><td>16</td></tr>",
                            "<tr><td>98</td><td>2</td><td>16</td></tr>",
                            "<tr><td>103</td><td>2</td><td>16</td></tr>",
                            "<tr><td>85</td><td>2</td><td>16</td></tr>",
                            "<tr><td>91</td><td>2</td><td>16</td></tr>",
                            "<tr><td>11</td><td>2</td><td>16</td></tr>",
                            "<tr><td>5</td><td>2</td><td>16</td></tr>",
                            "<tr><td>21</td><td>2</td><td>16</td></tr>",
                            "<tr><td>50</td><td>2</td><td>16</td></tr>",
                            "<tr><td>57</td><td>2</td><td>16</td></tr>",
                            "<tr><td>63</td><td>2</td><td>16</td></tr>",
                            "<tr><td>72</td><td>2</td><td>16</td></tr>",
                            "<tr><td>73</td><td>2</td><td>16</td></tr>",
                            "<tr><td>66</td><td>3</td><td>17</td></tr>",
                            "<tr><td>69</td><td>3</td><td>17</td></tr>",
                            "<tr><td>46</td><td>3</td><td>17</td></tr>",
                            "<tr><td>34</td><td>3</td><td>17</td></tr>",
                            "<tr><td>40</td><td>3</td><td>17</td></tr>",
                            "<tr><td>2</td><td>3</td><td>17</td></tr>",
                            "<tr><td>10</td><td>3</td><td>17</td></tr>",
                            "<tr><td>13</td><td>3</td><td>17</td></tr>",
                            "<tr><td>90</td><td>3</td><td>17</td></tr>",
                            "<tr><td>84</td><td>3</td><td>17</td></tr>",
                            "<tr><td>104</td><td>3</td><td>17</td></tr>",
                            "<tr><td>95</td><td>3</td><td>17</td></tr>",
                            "<tr><td>183</td><td>3</td><td>17</td></tr>",
                            "<tr><td>177</td><td>3</td><td>17</td></tr>",
                            "<tr><td>178</td><td>3</td><td>17</td></tr>",
                            "<tr><td>180</td><td>2</td><td>18</td></tr>",
                            "<tr><td>151</td><td>2</td><td>18</td></tr>",
                            "<tr><td>158</td><td>2</td><td>18</td></tr>",
                            "<tr><td>166</td><td>2</td><td>18</td></tr>",
                            "<tr><td>101</td><td>2</td><td>18</td></tr>",
                            "<tr><td>75</td><td>2</td><td>18</td></tr>",
                            "<tr><td>76</td><td>2</td><td>18</td></tr>",
                            "<tr><td>136</td><td>2</td><td>18</td></tr>",
                            "<tr><td>23</td><td>2</td><td>18</td></tr>",
                            "<tr><td>37</td><td>2</td><td>18</td></tr>",
                            "<tr><td>68</td><td>2</td><td>18</td></tr>",
                            "<tr><td>71</td><td>3</td><td>19</td></tr>",
                            "<tr><td>30</td><td>3</td><td>19</td></tr>",
                            "<tr><td>31</td><td>3</td><td>19</td></tr>",
                            "<tr><td>14</td><td>3</td><td>19</td></tr>",
                            "<tr><td>135</td><td>3</td><td>19</td></tr>",
                            "<tr><td>162</td><td>3</td><td>19</td></tr>",
                            "<tr><td>179</td><td>3</td><td>19</td></tr>",
                            "<tr><td>24</td><td>4</td><td>20</td></tr>",
                            "<tr><td>26</td><td>2</td><td>21</td></tr>",
                            "<tr><td>47</td><td>2</td><td>21</td></tr>",
                            "<tr><td>53</td><td>2</td><td>21</td></tr>",
                            "<tr><td>56</td><td>2</td><td>21</td></tr>",
                            "<tr><td>108</td><td>2</td><td>21</td></tr>",
                            "<tr><td>102</td><td>2</td><td>21</td></tr>",
                            "<tr><td>105</td><td>2</td><td>21</td></tr>",
                            "<tr><td>192</td><td>2</td><td>21</td></tr>",
                            "<tr><td>167</td><td>3</td><td>22</td></tr>",
                            "<tr><td>116</td><td>3</td><td>22</td></tr>",
                            "<tr><td>142</td><td>3</td><td>22</td></tr>",
                            "<tr><td>25</td><td>3</td><td>22</td></tr>",
                            "<tr><td>41</td><td>3</td><td>22</td></tr>",
                            "<tr><td>32</td><td>2</td><td>23</td></tr>",
                            "<tr><td>65</td><td>2</td><td>23</td></tr>",
                            "<tr><td>147</td><td>2</td><td>23</td></tr>",
                            "<tr><td>125</td><td>2</td><td>23</td></tr>",
                            "<tr><td>194</td><td>2</td><td>23</td></tr>",
                            "<tr><td>60</td><td>3</td><td>24</td></tr>",
                            "</table>"
                        ]
                    }
                }
            ],
            "execution_count": 27
        },
        {
            "cell_type": "code",
            "source": [
                "SELECT f.*\r\n",
                "FROM foglalas f join Vendeg v ON f.UGYFEL_FK = v.USERNEV\r\n",
                "WHERE SZUL_DAT = \r\n",
                "(\r\n",
                "    SELECT MAX(SZUL_DAT)\r\n",
                "    FROM vendeg\r\n",
                "    WHERE SZUL_DAT <\r\n",
                "    (\r\n",
                "        SELECT MAX(SZUL_DAT)\r\n",
                "        FROM Vendeg\r\n",
                "    )\r\n",
                ")\r\n",
                ""
            ],
            "metadata": {
                "azdata_cell_guid": "03f437c2-90d7-4a07-a9d7-1b68f8d2eaef",
                "language": "sql"
            },
            "outputs": [
                {
                    "output_type": "display_data",
                    "data": {
                        "text/html": "(4 rows affected)"
                    },
                    "metadata": {}
                },
                {
                    "output_type": "display_data",
                    "data": {
                        "text/html": "Total execution time: 00:00:00.017"
                    },
                    "metadata": {}
                },
                {
                    "output_type": "execute_result",
                    "metadata": {},
                    "execution_count": 26,
                    "data": {
                        "application/vnd.dataresource+json": {
                            "schema": {
                                "fields": [
                                    {
                                        "name": "FOGLALAS_PK"
                                    },
                                    {
                                        "name": "UGYFEL_FK"
                                    },
                                    {
                                        "name": "SZOBA_FK"
                                    },
                                    {
                                        "name": "METTOL"
                                    },
                                    {
                                        "name": "MEDDIG"
                                    },
                                    {
                                        "name": "FELNOTT_SZAM"
                                    },
                                    {
                                        "name": "GYERMEK_SZAM"
                                    }
                                ]
                            },
                            "data": [
                                {
                                    "FOGLALAS_PK": "583",
                                    "UGYFEL_FK": "istvan1",
                                    "SZOBA_FK": "79",
                                    "METTOL": "2016-04-16",
                                    "MEDDIG": "2016-04-22",
                                    "FELNOTT_SZAM": "3",
                                    "GYERMEK_SZAM": "0"
                                },
                                {
                                    "FOGLALAS_PK": "599",
                                    "UGYFEL_FK": "istvan1",
                                    "SZOBA_FK": "162",
                                    "METTOL": "2016-04-24",
                                    "MEDDIG": "2016-04-28",
                                    "FELNOTT_SZAM": "3",
                                    "GYERMEK_SZAM": "0"
                                },
                                {
                                    "FOGLALAS_PK": "689",
                                    "UGYFEL_FK": "istvan1",
                                    "SZOBA_FK": "102",
                                    "METTOL": "2016-07-19",
                                    "MEDDIG": "2016-07-24",
                                    "FELNOTT_SZAM": "1",
                                    "GYERMEK_SZAM": "0"
                                },
                                {
                                    "FOGLALAS_PK": "1507",
                                    "UGYFEL_FK": "istvan1",
                                    "SZOBA_FK": "153",
                                    "METTOL": "2017-02-07",
                                    "MEDDIG": "2017-02-10",
                                    "FELNOTT_SZAM": "2",
                                    "GYERMEK_SZAM": "1"
                                }
                            ]
                        },
                        "text/html": [
                            "<table>",
                            "<tr><th>FOGLALAS_PK</th><th>UGYFEL_FK</th><th>SZOBA_FK</th><th>METTOL</th><th>MEDDIG</th><th>FELNOTT_SZAM</th><th>GYERMEK_SZAM</th></tr>",
                            "<tr><td>583</td><td>istvan1</td><td>79</td><td>2016-04-16</td><td>2016-04-22</td><td>3</td><td>0</td></tr>",
                            "<tr><td>599</td><td>istvan1</td><td>162</td><td>2016-04-24</td><td>2016-04-28</td><td>3</td><td>0</td></tr>",
                            "<tr><td>689</td><td>istvan1</td><td>102</td><td>2016-07-19</td><td>2016-07-24</td><td>1</td><td>0</td></tr>",
                            "<tr><td>1507</td><td>istvan1</td><td>153</td><td>2017-02-07</td><td>2017-02-10</td><td>2</td><td>1</td></tr>",
                            "</table>"
                        ]
                    }
                }
            ],
            "execution_count": 26
        }
    ]
}